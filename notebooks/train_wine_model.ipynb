{
 "cells": [
  {
   "cell_type": "code",
   "execution_count": 2,
   "id": "cf84b8fe-4175-4565-a867-68f4ebe4261d",
   "metadata": {},
   "outputs": [],
   "source": [
    "import mlflow\n",
    "import matplotlib.pyplot as plt\n",
    "import mlflow.xgboost\n",
    "\n",
    "from xgboost import XGBClassifier\n",
    "from sklearn.metrics import (\n",
    "    make_scorer,\n",
    "    accuracy_score,\n",
    "    f1_score,\n",
    "    precision_score,\n",
    "    recall_score,\n",
    "    classification_report,\n",
    "    confusion_matrix,\n",
    ")\n",
    "from sklearn.model_selection import GridSearchCV, train_test_split\n",
    "from sklearn import datasets\n",
    "\n",
    "import tempfile\n",
    "import pandas as pd\n",
    "import numpy as np\n",
    "import typing as t\n",
    "import os\n",
    "\n",
    "import seaborn as sns\n",
    "import matplotlib.pyplot as plt"
   ]
  },
  {
   "cell_type": "code",
   "execution_count": 3,
   "id": "0ec513c4-e47f-4f15-a316-b75addd614ef",
   "metadata": {},
   "outputs": [
    {
     "data": {
      "text/plain": [
       "<Experiment: artifact_location='file:///Users/ciri/Desktop/sofia/xp/wine-ml-api/mlruns/869593139509224446', creation_time=1727720598241, experiment_id='869593139509224446', last_update_time=1727720598241, lifecycle_stage='active', name='wine-gridsearchcv', tags={}>"
      ]
     },
     "execution_count": 3,
     "metadata": {},
     "output_type": "execute_result"
    }
   ],
   "source": [
    "mlflow.set_tracking_uri('../mlruns')\n",
    "mlflow.set_experiment('wine-gridsearchcv')"
   ]
  },
  {
   "cell_type": "markdown",
   "id": "c5b7aa20-7d5b-4814-abf9-5bf3b6b17648",
   "metadata": {},
   "source": [
    "## Get Data"
   ]
  },
  {
   "cell_type": "code",
   "execution_count": 6,
   "id": "a266bed8-c7a0-4506-926d-0c489eaef316",
   "metadata": {},
   "outputs": [],
   "source": [
    "dataset = datasets.load_wine()\n",
    "\n",
    "dataset_df = pd.DataFrame(dataset.data, columns=dataset.feature_names)\n",
    "dataset_df['target'] = dataset.target\n",
    "dataset_df['label'] = [dataset.target_names.tolist()[t] for t in dataset.target]"
   ]
  },
  {
   "cell_type": "markdown",
   "id": "e27f4509-4a6d-4835-a27c-ae851abdd2ee",
   "metadata": {},
   "source": [
    "## Split Data"
   ]
  },
  {
   "cell_type": "code",
   "execution_count": 7,
   "id": "5d842786-2ecb-440b-bd23-e762030bb2ae",
   "metadata": {},
   "outputs": [],
   "source": [
    "def _get_X_y(df: pd.DataFrame) -> t.Tuple:\n",
    "    X = df.iloc[:, :-2]\n",
    "    y = df[\"target\"].tolist()\n",
    "    \n",
    "    return X, y"
   ]
  },
  {
   "cell_type": "code",
   "execution_count": 8,
   "id": "0dc151f2-be30-46af-bf06-351c52bf6b62",
   "metadata": {},
   "outputs": [],
   "source": [
    "random_state=12\n",
    "test_size = 0.2"
   ]
  },
  {
   "cell_type": "code",
   "execution_count": 9,
   "id": "4ea04119-6c79-424f-a7da-a6c5647fb6c2",
   "metadata": {},
   "outputs": [],
   "source": [
    "train_set, test_set = train_test_split(\n",
    "    dataset_df,\n",
    "    test_size=test_size,\n",
    "    random_state=random_state,\n",
    "    stratify=dataset_df['target']\n",
    ")"
   ]
  },
  {
   "cell_type": "code",
   "execution_count": 10,
   "id": "ef5a818a-4257-4685-a5af-b63362945167",
   "metadata": {},
   "outputs": [],
   "source": [
    "X_train, y_train = _get_X_y(train_set)\n",
    "X_test, y_test = _get_X_y(test_set)"
   ]
  },
  {
   "cell_type": "markdown",
   "id": "8f1e47ef-5e50-4425-8866-c83d8bbf6a0b",
   "metadata": {},
   "source": [
    "## Train Model"
   ]
  },
  {
   "cell_type": "code",
   "execution_count": 11,
   "id": "0b540b07-cc17-41e3-83c3-d37606044f88",
   "metadata": {},
   "outputs": [],
   "source": [
    "def _create_confusion_matrix(y_test, y_pred, labels, temp_dir):\n",
    "    cm = confusion_matrix(y_test, y_pred)\n",
    "    sns.heatmap(cm, annot=True,fmt='d', cmap='YlGnBu', xticklabels=labels, yticklabels=labels)\n",
    "    plt.ylabel('Previsão',fontsize=12)\n",
    "    plt.xlabel('Verdadeiro',fontsize=12)\n",
    "    plt.title('Matriz de Confusão',fontsize=16)\n",
    "\n",
    "    output_path = os.path.join(temp_dir, 'confusion_matrix.png')\n",
    "    plt.savefig(output_path)\n",
    "    \n",
    "    return output_path"
   ]
  },
  {
   "cell_type": "code",
   "execution_count": 12,
   "id": "db04e171-bfd4-4d28-8066-87d3192a4dd3",
   "metadata": {},
   "outputs": [],
   "source": [
    "param_grid = {\n",
    "    'n_estimators': [50, 100, 200],\n",
    "    'max_depth': [3, 4, 5],\n",
    "    'learning_rate': [0.01, 0.1, 0.2],\n",
    "    'objective': ['multi:softmax', 'multi:softprob']\n",
    "}\n",
    "\n",
    "model_name = \"wine_classification_xgboost_gridsearch\"\n",
    "\n",
    "f1_scorer = make_scorer(f1_score, average='weighted')"
   ]
  },
  {
   "cell_type": "code",
   "execution_count": 13,
   "id": "6c5b43a3-3f60-4289-8740-60494e2bd3af",
   "metadata": {},
   "outputs": [],
   "source": [
    "xgb_model = XGBClassifier()\n",
    "grid_search = GridSearchCV(estimator=xgb_model, param_grid=param_grid, scoring=f1_scorer, cv=5)"
   ]
  },
  {
   "cell_type": "code",
   "execution_count": 14,
   "id": "5bc19b56-09d2-4338-a8dd-13f44d92b55f",
   "metadata": {},
   "outputs": [
    {
     "name": "stderr",
     "output_type": "stream",
     "text": [
      "/Users/ciri/micromamba/envs/xp-wine-kedro-311/lib/python3.11/site-packages/xgboost/core.py:158: UserWarning: [20:47:07] WARNING: /Users/runner/work/xgboost/xgboost/src/c_api/c_api.cc:1374: Saving model in the UBJSON format as default.  You can use file extension: `json`, `ubj` or `deprecated` to choose between formats.\n",
      "  warnings.warn(smsg, UserWarning)\n",
      "2024/09/30 20:47:08 WARNING mlflow.models.model: Model logged without a signature and input example. Please set `input_example` parameter when logging the model to auto infer the model signature.\n",
      "Registered model 'wine_classification_xgboost_gridsearch' already exists. Creating a new version of this model...\n",
      "Created version '10' of model 'wine_classification_xgboost_gridsearch'.\n"
     ]
    },
    {
     "data": {
      "image/png": "[encoded data removed]",
      "text/plain": [
       "<Figure size 640x480 with 2 Axes>"
      ]
     },
     "metadata": {},
     "output_type": "display_data"
    }
   ],
   "source": [
    "with mlflow.start_run() as run:\n",
    "    grid_search.fit(X_train, y_train)\n",
    "\n",
    "    mlflow.xgboost.log_model(grid_search.best_estimator_, \"model\")\n",
    "\n",
    "    for param_name, param_value in grid_search.best_params_.items():\n",
    "        mlflow.log_param(param_name, param_value)\n",
    "\n",
    "    best_score = grid_search.best_score_\n",
    "    mlflow.log_metric(\"best_f1_score\", best_score)\n",
    "    mlflow.log_param(\"model_type\", \"xgboost\")\n",
    "\n",
    "    y_pred = grid_search.best_estimator_.predict(X_test)\n",
    "\n",
    "    accuracy = accuracy_score(y_test, y_pred)\n",
    "    precision_weighted = precision_score(y_test, y_pred, average=\"weighted\", zero_division=0)\n",
    "    recall_weighted = recall_score(y_test, y_pred, average=\"weighted\", zero_division=0)\n",
    "    f1_weighted = f1_score(y_test, y_pred, average=\"weighted\", zero_division=0)\n",
    "\n",
    "    mlflow.log_metric(\"accuracy\", accuracy)\n",
    "    mlflow.log_metric(\"precision_weighted\", precision_weighted)\n",
    "    mlflow.log_metric(\"recall_weighted\", recall_weighted)\n",
    "    mlflow.log_metric(\"f1_weighted\", f1_weighted)\n",
    "\n",
    "    with tempfile.TemporaryDirectory() as temp_dir:\n",
    "        train_file_path = os.path.join(temp_dir, \"train.parquet\")\n",
    "        test_file_path = os.path.join(temp_dir, \"test.parquet\")\n",
    "\n",
    "        train_set.to_parquet(train_file_path, index=False)\n",
    "        test_set.to_parquet(test_file_path, index=False)\n",
    "\n",
    "        mlflow.log_artifact(train_file_path, artifact_path=\"datasets\")\n",
    "        mlflow.log_artifact(test_file_path, artifact_path=\"datasets\")\n",
    "  \n",
    "        cm_file_name = _create_confusion_matrix(y_test, y_pred, dataset.target_names, temp_dir)\n",
    "        mlflow.log_artifact(cm_file_name, artifact_path=\"stats\")\n",
    "\n",
    "    mlflow.register_model(\"runs:/{}/model\".format(run.info.run_id), model_name)"
   ]
  },
  {
   "cell_type": "code",
   "execution_count": null,
   "id": "c66bc0bc-8eeb-4254-8348-fe13668d1523",
   "metadata": {},
   "outputs": [],
   "source": []
  }
 ],
 "metadata": {
  "kernelspec": {
   "display_name": "Python 3 (ipykernel)",
   "language": "python",
   "name": "python3"
  },
  "language_info": {
   "codemirror_mode": {
    "name": "ipython",
    "version": 3
   },
   "file_extension": ".py",
   "mimetype": "text/x-python",
   "name": "python",
   "nbconvert_exporter": "python",
   "pygments_lexer": "ipython3",
   "version": "3.11.10"
  }
 },
 "nbformat": 4,
 "nbformat_minor": 5
}
